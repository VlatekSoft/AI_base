{
  "nbformat": 4,
  "nbformat_minor": 0,
  "metadata": {
    "colab": {
      "provenance": [],
      "authorship_tag": "ABX9TyMZKmwycMPmO3yVgXFODFLs",
      "include_colab_link": true
    },
    "kernelspec": {
      "name": "python3",
      "display_name": "Python 3"
    },
    "language_info": {
      "name": "python"
    }
  },
  "cells": [
    {
      "cell_type": "markdown",
      "metadata": {
        "id": "view-in-github",
        "colab_type": "text"
      },
      "source": [
        "<a href=\"https://colab.research.google.com/github/VlatekSoft/AI_experiments/blob/main/AI_%D0%BF%D1%80%D0%B5%D0%B4%D1%81%D0%BA%D0%B0%D0%B7%D0%B0%D0%BD%D0%B8%D0%B5_CPL_%D0%BF%D0%BE%D1%81%D1%82%D0%BE%D0%B2_%D0%B2_%D1%82%D0%B5%D0%BB%D0%B5%D0%B3%D1%80%D0%B0%D0%BC_22_02_23.ipynb\" target=\"_parent\"><img src=\"https://colab.research.google.com/assets/colab-badge.svg\" alt=\"Open In Colab\"/></a>"
      ]
    },
    {
      "cell_type": "markdown",
      "source": [
        "Напиши код на python, как скачать таблицы, используя gdown, вот по этим ссылкам: тренировочная выборка - \"https://storage.yandexcloud.net/aiueducation/temp/train_telegram.csv\" , тестовая выборка - \"https://storage.yandexcloud.net/aiueducation/temp/test_telegram.csv\"  .  Выведи первый 5 строк из каждой таблицы"
      ],
      "metadata": {
        "id": "PnGhISfE2KS8"
      }
    },
    {
      "cell_type": "code",
      "execution_count": null,
      "metadata": {
        "colab": {
          "base_uri": "https://localhost:8080/"
        },
        "id": "ZrDL2d9G11q7",
        "outputId": "80c26b68-5bbd-4c58-b8b6-5c6e307079e2"
      },
      "outputs": [
        {
          "output_type": "stream",
          "name": "stderr",
          "text": [
            "Downloading...\n",
            "From: https://storage.yandexcloud.net/aiueducation/temp/train_telegram.csv\n",
            "To: /content/train_telegram.csv\n",
            "100%|██████████| 1.53M/1.53M [00:01<00:00, 1.47MB/s]\n",
            "Downloading...\n",
            "From: https://storage.yandexcloud.net/aiueducation/temp/test_telegram.csv\n",
            "To: /content/test_telegram.csv\n",
            "100%|██████████| 350k/350k [00:00<00:00, 486kB/s]"
          ]
        },
        {
          "output_type": "stream",
          "name": "stdout",
          "text": [
            "Первые 5 строк тренировочной выборки:\n",
            "                  Телеграм каналы  \\\n",
            "0  https://t.me/+zDhKBeT2h7E0MzYy   \n",
            "1  https://t.me/+zDhKBeT2h7E0MzYy   \n",
            "2  https://t.me/+zDhKBeT2h7E0MzYy   \n",
            "3  https://t.me/+zDhKBeT2h7E0MzYy   \n",
            "4  https://t.me/+zDhKBeT2h7E0MzYy   \n",
            "\n",
            "                                                Text  \\\n",
            "0  При помощи данной книги вы сможете начать свою...   \n",
            "1  Благодаря этой книге тысячи пользователей овла...   \n",
            "2  Методы управления данными и их интеграции быст...   \n",
            "3  Второе издание мирового бестселлера адресовано...   \n",
            "4  Эта книга адресована тем, кто только начинает ...   \n",
            "\n",
            "                                                Link    CPL  \n",
            "0  https://drive.google.com/file/d/1bUNiDQ-tro8AV...  414.0  \n",
            "1  https://drive.google.com/file/d/1n18kqYlUPhvyG...  414.0  \n",
            "2  https://drive.google.com/file/d/1ENTyekvVdj-Uy...  414.0  \n",
            "3  https://drive.google.com/file/d/14zSBW48N-vqEL...  414.0  \n",
            "4  https://drive.google.com/file/d/12V5zpKryxHD1z...  414.0  \n",
            "Первые 5 строк тестовой выборки:\n",
            "           Телеграм каналы                                               Text  \\\n",
            "0  https://t.me/job_python  software engineer (junior)\\n#гибрид #офис #пол...   \n",
            "1  https://t.me/job_python  Backend разработчик (middle)\\n#удаленка #полны...   \n",
            "2  https://t.me/job_python  Python developer (middle)\\n#удаленка #офис #по...   \n",
            "3  https://t.me/job_python  Python разработчик\\n\\nЧто предлагаем: \\n- Полн...   \n",
            "4  https://t.me/job_python  Вчера прошел вебинар на тему \"Как программисту...   \n",
            "\n",
            "                                                Link   CPL  \n",
            "0                                                NaN  1794  \n",
            "1                                                NaN  1794  \n",
            "2                                                NaN  1794  \n",
            "3                                                NaN  1794  \n",
            "4  https://drive.google.com/file/d/10cXwDKPqI-laJ...  1794  \n"
          ]
        },
        {
          "output_type": "stream",
          "name": "stderr",
          "text": [
            "\n"
          ]
        }
      ],
      "source": [
        "import gdown\n",
        "import pandas as pd\n",
        "\n",
        "# Ссылки на файлы\n",
        "train_url = \"https://storage.yandexcloud.net/aiueducation/temp/train_telegram.csv\"\n",
        "test_url = \"https://storage.yandexcloud.net/aiueducation/temp/test_telegram.csv\"\n",
        "\n",
        "# Скачивание файлов\n",
        "gdown.download(train_url, \"train_telegram.csv\", quiet=False)\n",
        "gdown.download(test_url, \"test_telegram.csv\", quiet=False)\n",
        "\n",
        "# Загрузка файлов в pandas DataFrame и вывод первых 5 строк\n",
        "train_df = pd.read_csv(\"train_telegram.csv\")\n",
        "test_df = pd.read_csv(\"test_telegram.csv\")\n",
        "\n",
        "print(\"Первые 5 строк тренировочной выборки:\")\n",
        "print(train_df.head(5))\n",
        "\n",
        "print(\"Первые 5 строк тестовой выборки:\")\n",
        "print(test_df.head(5))\n",
        "\n"
      ]
    },
    {
      "cell_type": "markdown",
      "source": [
        "выведи код, как посмотреть названия колонок в этих таблицах"
      ],
      "metadata": {
        "id": "GTgKYOpi2xBn"
      }
    },
    {
      "cell_type": "code",
      "source": [
        "# Вывод названий колонок для каждой таблицы\n",
        "print(\"Названия колонок в тренировочной выборке:\")\n",
        "print(train_df.columns)\n",
        "\n",
        "print(\"Названия колонок в тестовой выборке:\")\n",
        "print(test_df.columns)"
      ],
      "metadata": {
        "colab": {
          "base_uri": "https://localhost:8080/"
        },
        "id": "FUKaYx8U2s5E",
        "outputId": "21a698e2-9f75-401d-9ab0-57373dff056d"
      },
      "execution_count": null,
      "outputs": [
        {
          "output_type": "stream",
          "name": "stdout",
          "text": [
            "Названия колонок в тренировочной выборке:\n",
            "Index(['Телеграм каналы', 'Text', 'Link', 'CPL'], dtype='object')\n",
            "Названия колонок в тестовой выборке:\n",
            "Index(['Телеграм каналы', 'Text', 'Link', 'CPL'], dtype='object')\n"
          ]
        }
      ]
    },
    {
      "cell_type": "markdown",
      "source": [
        "Удали колонку \"Link\" из обеих таблиц"
      ],
      "metadata": {
        "id": "LpXbR29E3Iez"
      }
    },
    {
      "cell_type": "code",
      "source": [
        "# Удаление колонки \"Link\" из обеих таблиц\n",
        "train_df = train_df.drop(\"Link\", axis=1)\n",
        "test_df = test_df.drop(\"Link\", axis=1)\n",
        "\n",
        "# Вывод первых 5 строк обеих таблиц\n",
        "print(\"Первые 5 строк тренировочной выборки:\")\n",
        "print(train_df.head(5))\n",
        "\n",
        "print(\"Первые 5 строк тестовой выборки:\")\n",
        "print(test_df.head(5))"
      ],
      "metadata": {
        "colab": {
          "base_uri": "https://localhost:8080/"
        },
        "id": "TakGzL7p3kMy",
        "outputId": "049bd0de-308c-4783-e7b2-a4d799a933c3"
      },
      "execution_count": null,
      "outputs": [
        {
          "output_type": "stream",
          "name": "stdout",
          "text": [
            "Первые 5 строк тренировочной выборки:\n",
            "                  Телеграм каналы  \\\n",
            "0  https://t.me/+zDhKBeT2h7E0MzYy   \n",
            "1  https://t.me/+zDhKBeT2h7E0MzYy   \n",
            "2  https://t.me/+zDhKBeT2h7E0MzYy   \n",
            "3  https://t.me/+zDhKBeT2h7E0MzYy   \n",
            "4  https://t.me/+zDhKBeT2h7E0MzYy   \n",
            "\n",
            "                                                Text    CPL  \n",
            "0  При помощи данной книги вы сможете начать свою...  414.0  \n",
            "1  Благодаря этой книге тысячи пользователей овла...  414.0  \n",
            "2  Методы управления данными и их интеграции быст...  414.0  \n",
            "3  Второе издание мирового бестселлера адресовано...  414.0  \n",
            "4  Эта книга адресована тем, кто только начинает ...  414.0  \n",
            "Первые 5 строк тестовой выборки:\n",
            "           Телеграм каналы                                               Text  \\\n",
            "0  https://t.me/job_python  software engineer (junior)\\n#гибрид #офис #пол...   \n",
            "1  https://t.me/job_python  Backend разработчик (middle)\\n#удаленка #полны...   \n",
            "2  https://t.me/job_python  Python developer (middle)\\n#удаленка #офис #по...   \n",
            "3  https://t.me/job_python  Python разработчик\\n\\nЧто предлагаем: \\n- Полн...   \n",
            "4  https://t.me/job_python  Вчера прошел вебинар на тему \"Как программисту...   \n",
            "\n",
            "    CPL  \n",
            "0  1794  \n",
            "1  1794  \n",
            "2  1794  \n",
            "3  1794  \n",
            "4  1794  \n"
          ]
        }
      ]
    },
    {
      "cell_type": "markdown",
      "source": [
        "Удали строки, в которых имеются отсутствующие значения из обеих таблиц. Сделай reset index\n"
      ],
      "metadata": {
        "id": "GBdE5n5t37M3"
      }
    },
    {
      "cell_type": "code",
      "source": [],
      "metadata": {
        "id": "3_i5HWT_4Cfp"
      },
      "execution_count": null,
      "outputs": []
    },
    {
      "cell_type": "code",
      "source": [],
      "metadata": {
        "id": "azg4AhaU8DT0"
      },
      "execution_count": null,
      "outputs": []
    }
  ]
}